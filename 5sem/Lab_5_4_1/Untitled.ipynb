{
 "cells": [
  {
   "cell_type": "markdown",
   "metadata": {},
   "source": [
    "# Обработка лабораторной работы 4.1"
   ]
  },
  {
   "cell_type": "code",
   "execution_count": 1,
   "metadata": {
    "collapsed": true
   },
   "outputs": [],
   "source": [
    "# Импротируем необходимые функции\n",
    "import numpy as np # работа с массивами и линейной алгеброй\n",
    "import matplotlib.pyplot as plt # для отрисовки графиков\n",
    "import pandas as pd # для чтения и работы с данными\n",
    "from scipy.optimize import curve_fit # фитирующая процедура"
   ]
  },
  {
   "cell_type": "markdown",
   "metadata": {},
   "source": [
    "## Счетчик Гейгера"
   ]
  },
  {
   "cell_type": "code",
   "execution_count": 87,
   "metadata": {
    "collapsed": true
   },
   "outputs": [],
   "source": [
    "data1 = pd.read_excel('data/geiger.xlsx')"
   ]
  },
  {
   "cell_type": "code",
   "execution_count": 88,
   "metadata": {},
   "outputs": [
    {
     "data": {
      "text/html": [
       "<div>\n",
       "<style>\n",
       "    .dataframe thead tr:only-child th {\n",
       "        text-align: right;\n",
       "    }\n",
       "\n",
       "    .dataframe thead th {\n",
       "        text-align: left;\n",
       "    }\n",
       "\n",
       "    .dataframe tbody tr th {\n",
       "        vertical-align: top;\n",
       "    }\n",
       "</style>\n",
       "<table border=\"1\" class=\"dataframe\">\n",
       "  <thead>\n",
       "    <tr style=\"text-align: right;\">\n",
       "      <th></th>\n",
       "      <th>x</th>\n",
       "      <th>s_x</th>\n",
       "      <th>N</th>\n",
       "      <th>s_n</th>\n",
       "      <th>t</th>\n",
       "      <th>N/t</th>\n",
       "      <th>s_n/t</th>\n",
       "    </tr>\n",
       "  </thead>\n",
       "  <tbody>\n",
       "    <tr>\n",
       "      <th>0</th>\n",
       "      <td>60</td>\n",
       "      <td>0.5</td>\n",
       "      <td>101</td>\n",
       "      <td>10.049876</td>\n",
       "      <td>633.0</td>\n",
       "      <td>0.159558</td>\n",
       "      <td>0.015877</td>\n",
       "    </tr>\n",
       "    <tr>\n",
       "      <th>1</th>\n",
       "      <td>55</td>\n",
       "      <td>0.5</td>\n",
       "      <td>100</td>\n",
       "      <td>10.000000</td>\n",
       "      <td>744.0</td>\n",
       "      <td>0.134409</td>\n",
       "      <td>0.013441</td>\n",
       "    </tr>\n",
       "    <tr>\n",
       "      <th>2</th>\n",
       "      <td>50</td>\n",
       "      <td>0.5</td>\n",
       "      <td>101</td>\n",
       "      <td>10.049876</td>\n",
       "      <td>806.0</td>\n",
       "      <td>0.125310</td>\n",
       "      <td>0.012469</td>\n",
       "    </tr>\n",
       "    <tr>\n",
       "      <th>3</th>\n",
       "      <td>45</td>\n",
       "      <td>0.5</td>\n",
       "      <td>102</td>\n",
       "      <td>10.099505</td>\n",
       "      <td>700.0</td>\n",
       "      <td>0.145714</td>\n",
       "      <td>0.014428</td>\n",
       "    </tr>\n",
       "    <tr>\n",
       "      <th>4</th>\n",
       "      <td>40</td>\n",
       "      <td>0.5</td>\n",
       "      <td>110</td>\n",
       "      <td>10.488088</td>\n",
       "      <td>695.0</td>\n",
       "      <td>0.158273</td>\n",
       "      <td>0.015091</td>\n",
       "    </tr>\n",
       "  </tbody>\n",
       "</table>\n",
       "</div>"
      ],
      "text/plain": [
       "    x  s_x    N        s_n      t       N/t     s_n/t\n",
       "0  60  0.5  101  10.049876  633.0  0.159558  0.015877\n",
       "1  55  0.5  100  10.000000  744.0  0.134409  0.013441\n",
       "2  50  0.5  101  10.049876  806.0  0.125310  0.012469\n",
       "3  45  0.5  102  10.099505  700.0  0.145714  0.014428\n",
       "4  40  0.5  110  10.488088  695.0  0.158273  0.015091"
      ]
     },
     "execution_count": 88,
     "metadata": {},
     "output_type": "execute_result"
    }
   ],
   "source": [
    "data1.head()"
   ]
  },
  {
   "cell_type": "code",
   "execution_count": 89,
   "metadata": {},
   "outputs": [],
   "source": [
    "def draw(df):\n",
    "    x = df['x']\n",
    "    x_err = df['s_x']\n",
    "    y = df['N/t']\n",
    "    y_err = df['s_n/t']\n",
    "    \n",
    "    plt.figure(figsize=(15,10))\n",
    "    plt.title('Зависимость N(x) (в ед. времени)'.decode('utf-8'))\n",
    "    plt.xlabel('x, мм'.decode('utf-8'))\n",
    "    plt.ylabel('N/t, шт/с'.decode('utf-8'))\n",
    "    plt.errorbar(x = x, y = y, yerr = y_err, xerr = x_err, ecolor = 'black', label = 'Экспериментальные точки'.decode('utf-8'))\n",
    "    plt.legend()\n",
    "    plt.grid()"
   ]
  },
  {
   "cell_type": "code",
   "execution_count": 90,
   "metadata": {
    "collapsed": true
   },
   "outputs": [],
   "source": [
    "def sigmoida(x, a, b, x0, c):\n",
    "    return a/(np.exp(b*(x-x0)) + 1) + c\n",
    "def sigmoida_diff(x, a, b, x0, c):\n",
    "    return a*b*np.exp(b*(x-x0))/(np.exp(b*(x-x0)) + 1)**2+c"
   ]
  },
  {
   "cell_type": "code",
   "execution_count": 91,
   "metadata": {},
   "outputs": [
    {
     "name": "stdout",
     "output_type": "stream",
     "text": [
      "[ 0.113727    0.15188757  0.02415563  0.07068965]\n",
      "[ 15.02172293   2.47529783  17.9141455    0.19454291]\n"
     ]
    }
   ],
   "source": [
    "popt1, pcov1 = curve_fit(f = sigmoida, xdata = data1['x'], ydata = data1['N/t'], maxfev=10000, p0 = [15.4,2.5,7.8,0.3])\n",
    "print np.sqrt(np.diag(pcov1))\n",
    "print popt1"
   ]
  },
  {
   "cell_type": "code",
   "execution_count": 93,
   "metadata": {},
   "outputs": [
    {
     "data": {
      "image/png": "[encoded data removed]",
      "text/plain": [
       "<matplotlib.figure.Figure at 0xd2b1860>"
      ]
     },
     "metadata": {},
     "output_type": "display_data"
    }
   ],
   "source": [
    "draw(data1)\n",
    "plt.plot(np.arange(5, 60, 0.1), sigmoida(np.arange(5, 60, 0.1), *popt1), color = 'black', label = 'Аппроксимация'.decode('utf-8'))\n",
    "plt.plot(np.arange(5, 60, 0.1), sigmoida_diff(np.arange(5, 60, 0.1), *popt1), color = 'black', linestyle='dashed', label = '$dN/dx$')\n",
    "plt.legend()\n",
    "plt.show()"
   ]
  },
  {
   "cell_type": "code",
   "execution_count": 95,
   "metadata": {},
   "outputs": [
    {
     "data": {
      "text/html": [
       "<iframe src=./N(x).pdf width=900 height=800></iframe>"
      ],
      "text/plain": [
       "<IPython.core.display.HTML object>"
      ]
     },
     "execution_count": 95,
     "metadata": {},
     "output_type": "execute_result"
    }
   ],
   "source": [
    "from IPython.display import HTML\n",
    "HTML('<iframe src=./N(x).pdf width=900 height=800></iframe>')"
   ]
  },
  {
   "cell_type": "markdown",
   "metadata": {},
   "source": [
    "Таким образом\n",
    "$$\n",
    "R_{\\text{ср}} = 1.791\\pm0.002 \\text{ см}\\\\\n",
    "R_{\\text{э}} = 1.91\\pm1.88 \\text{ см}\n",
    "$$\n",
    "или\n",
    "$$\n",
    "R'_{\\text{ср}} = (2.194\\pm0.003)\\cdot10^{-3}\\ \\frac{\\text{г}}{\\text{cм$^2$}}\\\\\n",
    "R'_{\\text{э}} = (2.34\\pm2.30)\\cdot10^{-3} \\ \\frac{\\text{г}}{\\text{см$^2$}}.\n",
    "$$\n",
    "Отсюда\n",
    "$$\n",
    "E_{\\text{ср}} = 3.152\\pm0.002 \\text{ МэВ}\\\\\n",
    "E_{\\text{э}} = 4\\pm2 \\text{ МэВ}\n",
    "$$"
   ]
  },
  {
   "cell_type": "markdown",
   "metadata": {},
   "source": [
    "## Ионизационная камера"
   ]
  },
  {
   "cell_type": "code",
   "execution_count": 83,
   "metadata": {},
   "outputs": [
    {
     "data": {
      "text/html": [
       "<iframe src=./I(P).pdf width=900 height=800></iframe>"
      ],
      "text/plain": [
       "<IPython.core.display.HTML object>"
      ]
     },
     "execution_count": 83,
     "metadata": {},
     "output_type": "execute_result"
    }
   ],
   "source": [
    "HTML('<iframe src=./I(P).pdf width=900 height=800></iframe>')"
   ]
  },
  {
   "cell_type": "markdown",
   "metadata": {},
   "source": [
    "Таким образом, с помощью МНК находим точку перечения\n",
    "$$\n",
    "P = (5.80\\pm0.10) \\cdot 10^2 \\text{ торр}\\\\\n",
    "I = (8.99\\pm0.14)\\cdot 10^2 \\text{ пА}.\n",
    "$$\n",
    "По уравнению Клапейрона-Менделеева и т.к. $R = 5$ см (параметр установки)\n",
    "$$\n",
    "PR \\propto T,\n",
    "$$\n",
    "то\n",
    "$$\n",
    "R_0 = \\frac{T_0}{T}\\,\\frac{P}{P_0}\\,R = 3.66\\pm0.06 \\text{ см}\\\\\n",
    "R_0' = (4.48\\pm0.07)\\cdot10^{-3} \\ \\frac{\\text{г}}{\\text{см$^2$}}\\\\\n",
    "E = 5.07\\pm0.05 \\text{ МэВ}\n",
    "$$"
   ]
  },
  {
   "cell_type": "markdown",
   "metadata": {},
   "source": [
    "## Сцинтилляционный счетчик"
   ]
  },
  {
   "cell_type": "code",
   "execution_count": 86,
   "metadata": {},
   "outputs": [
    {
     "data": {
      "text/html": [
       "<iframe src=./N(P)_2.pdf width=900 height=800></iframe>"
      ],
      "text/plain": [
       "<IPython.core.display.HTML object>"
      ]
     },
     "execution_count": 86,
     "metadata": {},
     "output_type": "execute_result"
    }
   ],
   "source": [
    "HTML('<iframe src=./N(P)_2.pdf width=900 height=800></iframe>')"
   ]
  },
  {
   "cell_type": "markdown",
   "metadata": {},
   "source": [
    "Из МНК найдем точку перечения с осью Y\n",
    "$$\n",
    "P = (3.16\\pm0.10)\\cdot10^2\\text{ торр}\n",
    "$$\n",
    "$$\n",
    "R = 9 \\text{ см}\\\\\n",
    "R_0 = \\frac{T_0}{T}\\,\\frac{P}{P_0}\\,R = 3.59\\pm0.11 \\text{ см}\\\\\n",
    "R_0' = (4.40\\pm0.14)\\cdot10^{-3} \\ \\frac{\\text{г}}{\\text{см$^2$}}\\\\\n",
    "E = 5.73\\pm0.09 \\text{ МэВ}\n",
    "$$"
   ]
  },
  {
   "cell_type": "markdown",
   "metadata": {},
   "source": [
    "Определим толщину слоя слюды из уравнения:\n",
    "$$\n",
    "x/1.2+2.194\\cdot10^{-3}=4.4*10^{-3} \\Rightarrow x = 2.6\\cdot10^{-3} \\ \\frac{\\text{г}}{\\text{см$^2$}} \\Rightarrow L_{\\text{сл}} = 9.8\\cdot10^{-4} \\text{ см} = 9.8 \\text{ мкм}\n",
    "$$"
   ]
  },
  {
   "cell_type": "code",
   "execution_count": null,
   "metadata": {
    "collapsed": true
   },
   "outputs": [],
   "source": []
  }
 ],
 "metadata": {
  "kernelspec": {
   "display_name": "Python 2",
   "language": "python",
   "name": "python2"
  },
  "language_info": {
   "codemirror_mode": {
    "name": "ipython",
    "version": 2
   },
   "file_extension": ".py",
   "mimetype": "text/x-python",
   "name": "python",
   "nbconvert_exporter": "python",
   "pygments_lexer": "ipython2",
   "version": "2.7.14"
  }
 },
 "nbformat": 4,
 "nbformat_minor": 2
}
