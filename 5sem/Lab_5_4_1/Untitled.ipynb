{
 "cells": [
  {
   "cell_type": "markdown",
   "metadata": {},
   "source": [
    "# Обработка лабораторной работы 4.1"
   ]
  },
  {
   "cell_type": "code",
   "execution_count": 1,
   "metadata": {
    "collapsed": true
   },
   "outputs": [],
   "source": [
    "# Импротируем необходимые функции\n",
    "import numpy as np # работа с массивами и линейной алгеброй\n",
    "import matplotlib.pyplot as plt # для отрисовки графиков\n",
    "import pandas as pd # для чтения и работы с данными\n",
    "from scipy.optimize import curve_fit # фитирующая процедура"
   ]
  },
  {
   "cell_type": "markdown",
   "metadata": {},
   "source": [
    "## Счетчик Гейгера"
   ]
  },
  {
   "cell_type": "code",
   "execution_count": 2,
   "metadata": {
    "collapsed": true
   },
   "outputs": [],
   "source": [
    "data1 = pd.read_excel('data/geiger.xlsx')"
   ]
  },
  {
   "cell_type": "code",
   "execution_count": 3,
   "metadata": {},
   "outputs": [
    {
     "data": {
      "text/html": [
       "<div>\n",
       "<style>\n",
       "    .dataframe thead tr:only-child th {\n",
       "        text-align: right;\n",
       "    }\n",
       "\n",
       "    .dataframe thead th {\n",
       "        text-align: left;\n",
       "    }\n",
       "\n",
       "    .dataframe tbody tr th {\n",
       "        vertical-align: top;\n",
       "    }\n",
       "</style>\n",
       "<table border=\"1\" class=\"dataframe\">\n",
       "  <thead>\n",
       "    <tr style=\"text-align: right;\">\n",
       "      <th></th>\n",
       "      <th>x</th>\n",
       "      <th>s_x</th>\n",
       "      <th>N</th>\n",
       "      <th>s_n</th>\n",
       "      <th>t</th>\n",
       "      <th>N/t</th>\n",
       "      <th>s_n/t</th>\n",
       "    </tr>\n",
       "  </thead>\n",
       "  <tbody>\n",
       "    <tr>\n",
       "      <th>0</th>\n",
       "      <td>50</td>\n",
       "      <td>0.5</td>\n",
       "      <td>101</td>\n",
       "      <td>10.049876</td>\n",
       "      <td>633.0</td>\n",
       "      <td>0.159558</td>\n",
       "      <td>0.015877</td>\n",
       "    </tr>\n",
       "    <tr>\n",
       "      <th>1</th>\n",
       "      <td>45</td>\n",
       "      <td>0.5</td>\n",
       "      <td>100</td>\n",
       "      <td>10.000000</td>\n",
       "      <td>744.0</td>\n",
       "      <td>0.134409</td>\n",
       "      <td>0.013441</td>\n",
       "    </tr>\n",
       "    <tr>\n",
       "      <th>2</th>\n",
       "      <td>40</td>\n",
       "      <td>0.5</td>\n",
       "      <td>101</td>\n",
       "      <td>10.049876</td>\n",
       "      <td>806.0</td>\n",
       "      <td>0.125310</td>\n",
       "      <td>0.012469</td>\n",
       "    </tr>\n",
       "    <tr>\n",
       "      <th>3</th>\n",
       "      <td>35</td>\n",
       "      <td>0.5</td>\n",
       "      <td>102</td>\n",
       "      <td>10.099505</td>\n",
       "      <td>700.0</td>\n",
       "      <td>0.145714</td>\n",
       "      <td>0.014428</td>\n",
       "    </tr>\n",
       "    <tr>\n",
       "      <th>4</th>\n",
       "      <td>30</td>\n",
       "      <td>0.5</td>\n",
       "      <td>110</td>\n",
       "      <td>10.488088</td>\n",
       "      <td>695.0</td>\n",
       "      <td>0.158273</td>\n",
       "      <td>0.015091</td>\n",
       "    </tr>\n",
       "  </tbody>\n",
       "</table>\n",
       "</div>"
      ],
      "text/plain": [
       "    x  s_x    N        s_n      t       N/t     s_n/t\n",
       "0  50  0.5  101  10.049876  633.0  0.159558  0.015877\n",
       "1  45  0.5  100  10.000000  744.0  0.134409  0.013441\n",
       "2  40  0.5  101  10.049876  806.0  0.125310  0.012469\n",
       "3  35  0.5  102  10.099505  700.0  0.145714  0.014428\n",
       "4  30  0.5  110  10.488088  695.0  0.158273  0.015091"
      ]
     },
     "execution_count": 3,
     "metadata": {},
     "output_type": "execute_result"
    }
   ],
   "source": [
    "data1.head()"
   ]
  },
  {
   "cell_type": "code",
   "execution_count": 72,
   "metadata": {},
   "outputs": [],
   "source": [
    "def draw(df):\n",
    "    x = df['x']\n",
    "    x_err = df['s_x']\n",
    "    y = df['N/t']\n",
    "    y_err = df['s_n/t']\n",
    "    \n",
    "    plt.figure(figsize=(15,10))\n",
    "    plt.title('Зависимость N(x) (в ед. времени)'.decode('utf-8'))\n",
    "    plt.xlabel('x, мм'.decode('utf-8'))\n",
    "    plt.ylabel('N/t, шт/с'.decode('utf-8'))\n",
    "    plt.errorbar(x = x, y = y, yerr = y_err, xerr = x_err, ecolor = 'black', label = 'Экспериментальные точки'.decode('utf-8'))\n",
    "    plt.legend()\n",
    "    plt.grid()"
   ]
  },
  {
   "cell_type": "code",
   "execution_count": 50,
   "metadata": {
    "collapsed": true
   },
   "outputs": [],
   "source": [
    "def sigmoida(x, a, b, x0, c):\n",
    "    return a/(np.exp(b*(x-x0)) + 1) + c\n",
    "def sigmoida_diff(x, a, b, x0, c):\n",
    "    return a*b*np.exp(b*(x-x0))/(np.exp(b*(x-x0)) + 1)**2+c"
   ]
  },
  {
   "cell_type": "code",
   "execution_count": 65,
   "metadata": {},
   "outputs": [
    {
     "name": "stdout",
     "output_type": "stream",
     "text": [
      "[ 0.11372701  0.15188604  0.02415571  0.07068967]\n",
      "[ 15.02172281   2.47529831   7.91414549   0.19454297]\n"
     ]
    }
   ],
   "source": [
    "popt1, pcov1 = curve_fit(f = sigmoida, xdata = data1['x'], ydata = data1['N/t'], maxfev=10000, p0 = [15.4,2.5,7.8,0.3])\n",
    "print np.sqrt(np.diag(pcov1))\n",
    "print popt1"
   ]
  },
  {
   "cell_type": "code",
   "execution_count": 80,
   "metadata": {},
   "outputs": [
    {
     "data": {
      "image/png": "[encoded data removed]",
      "text/plain": [
       "<matplotlib.figure.Figure at 0xd38cef0>"
      ]
     },
     "metadata": {},
     "output_type": "display_data"
    }
   ],
   "source": [
    "draw(data1)\n",
    "plt.plot(np.arange(0, 50, 0.1), sigmoida(np.arange(0, 50, 0.1), *popt1), color = 'black', label = 'Аппроксимация'.decode('utf-8'))\n",
    "plt.plot(np.arange(0, 50, 0.1), sigmoida_diff(np.arange(0, 50, 0.1), *popt1), color = 'black', linestyle='dashed', label = '$dN/dx$')\n",
    "plt.legend()\n",
    "plt.show()"
   ]
  },
  {
   "cell_type": "code",
   "execution_count": 61,
   "metadata": {},
   "outputs": [
    {
     "data": {
      "text/html": [
       "<iframe src=./N(x).pdf width=900 height=800></iframe>"
      ],
      "text/plain": [
       "<IPython.core.display.HTML object>"
      ]
     },
     "execution_count": 61,
     "metadata": {},
     "output_type": "execute_result"
    }
   ],
   "source": [
    "from IPython.display import HTML\n",
    "HTML('<iframe src=./N(x).pdf width=900 height=800></iframe>')"
   ]
  },
  {
   "cell_type": "markdown",
   "metadata": {},
   "source": [
    "Таким образом\n",
    "$$\n",
    "R_{\\text{ср}} = 7.91\\pm0.02 \\text{ мм}\\\\\n",
    "R_{\\text{э}} = 9\\pm9 \\text{ мм}\n",
    "$$\n",
    "или\n",
    "$$\n",
    "R'_{\\text{ср}} = 952\\pm2 \\ \\frac{\\text{г}}{\\text{cм$^2$}}\\\\\n",
    "R'_{\\text{э}} = (1.1\\pm1.1)\\cdot10^3 \\ \\frac{\\text{г}}{\\text{см$^2$}}.\n",
    "$$"
   ]
  },
  {
   "cell_type": "code",
   "execution_count": null,
   "metadata": {
    "collapsed": true
   },
   "outputs": [],
   "source": []
  }
 ],
 "metadata": {
  "kernelspec": {
   "display_name": "Python 2",
   "language": "python",
   "name": "python2"
  },
  "language_info": {
   "codemirror_mode": {
    "name": "ipython",
    "version": 2
   },
   "file_extension": ".py",
   "mimetype": "text/x-python",
   "name": "python",
   "nbconvert_exporter": "python",
   "pygments_lexer": "ipython2",
   "version": "2.7.14"
  }
 },
 "nbformat": 4,
 "nbformat_minor": 2
}
